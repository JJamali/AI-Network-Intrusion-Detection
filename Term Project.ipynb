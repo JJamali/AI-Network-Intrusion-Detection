{
 "cells": [
  {
   "cell_type": "code",
   "execution_count": 2,
   "id": "2a840786-f89d-4c30-bf77-ad7131319a06",
   "metadata": {},
   "outputs": [],
   "source": [
    "import pandas as pd\n",
    "import numpy as np\n",
    "import matplotlib.pyplot as plt\n",
    "import sklearn.datasets\n",
    "import sklearn.neural_network\n",
    "\n",
    "import warnings\n",
    "# Suppress LinAlgWarning\n",
    "warnings.filterwarnings('ignore', message=\"Ill-conditioned matrix\")\n",
    "warnings.filterwarnings('ignore', category=FutureWarning)\n",
    "warnings.filterwarnings('ignore', message=\"Liblinear failed to converge, increase\")"
   ]
  },
  {
   "cell_type": "code",
   "execution_count": 179,
   "id": "e2843e86-0ab1-4d08-b444-115f3b33f019",
   "metadata": {},
   "outputs": [],
   "source": [
    "Network_data = pd.read_csv(\"Train_data.csv\")"
   ]
  },
  {
   "cell_type": "code",
   "execution_count": 181,
   "id": "dca38c14-9954-41f1-9dd4-5012f4566c6a",
   "metadata": {},
   "outputs": [
    {
     "data": {
      "text/html": [
       "<div>\n",
       "<style scoped>\n",
       "    .dataframe tbody tr th:only-of-type {\n",
       "        vertical-align: middle;\n",
       "    }\n",
       "\n",
       "    .dataframe tbody tr th {\n",
       "        vertical-align: top;\n",
       "    }\n",
       "\n",
       "    .dataframe thead th {\n",
       "        text-align: right;\n",
       "    }\n",
       "</style>\n",
       "<table border=\"1\" class=\"dataframe\">\n",
       "  <thead>\n",
       "    <tr style=\"text-align: right;\">\n",
       "      <th></th>\n",
       "      <th>duration</th>\n",
       "      <th>protocol_type</th>\n",
       "      <th>service</th>\n",
       "      <th>flag</th>\n",
       "      <th>src_bytes</th>\n",
       "      <th>dst_bytes</th>\n",
       "      <th>land</th>\n",
       "      <th>wrong_fragment</th>\n",
       "      <th>urgent</th>\n",
       "      <th>hot</th>\n",
       "      <th>...</th>\n",
       "      <th>dst_host_srv_count</th>\n",
       "      <th>dst_host_same_srv_rate</th>\n",
       "      <th>dst_host_diff_srv_rate</th>\n",
       "      <th>dst_host_same_src_port_rate</th>\n",
       "      <th>dst_host_srv_diff_host_rate</th>\n",
       "      <th>dst_host_serror_rate</th>\n",
       "      <th>dst_host_srv_serror_rate</th>\n",
       "      <th>dst_host_rerror_rate</th>\n",
       "      <th>dst_host_srv_rerror_rate</th>\n",
       "      <th>class</th>\n",
       "    </tr>\n",
       "  </thead>\n",
       "  <tbody>\n",
       "    <tr>\n",
       "      <th>0</th>\n",
       "      <td>0</td>\n",
       "      <td>tcp</td>\n",
       "      <td>ftp_data</td>\n",
       "      <td>SF</td>\n",
       "      <td>491</td>\n",
       "      <td>0</td>\n",
       "      <td>0</td>\n",
       "      <td>0</td>\n",
       "      <td>0</td>\n",
       "      <td>0</td>\n",
       "      <td>...</td>\n",
       "      <td>25</td>\n",
       "      <td>0.17</td>\n",
       "      <td>0.03</td>\n",
       "      <td>0.17</td>\n",
       "      <td>0.00</td>\n",
       "      <td>0.00</td>\n",
       "      <td>0.00</td>\n",
       "      <td>0.05</td>\n",
       "      <td>0.00</td>\n",
       "      <td>normal</td>\n",
       "    </tr>\n",
       "    <tr>\n",
       "      <th>1</th>\n",
       "      <td>0</td>\n",
       "      <td>udp</td>\n",
       "      <td>other</td>\n",
       "      <td>SF</td>\n",
       "      <td>146</td>\n",
       "      <td>0</td>\n",
       "      <td>0</td>\n",
       "      <td>0</td>\n",
       "      <td>0</td>\n",
       "      <td>0</td>\n",
       "      <td>...</td>\n",
       "      <td>1</td>\n",
       "      <td>0.00</td>\n",
       "      <td>0.60</td>\n",
       "      <td>0.88</td>\n",
       "      <td>0.00</td>\n",
       "      <td>0.00</td>\n",
       "      <td>0.00</td>\n",
       "      <td>0.00</td>\n",
       "      <td>0.00</td>\n",
       "      <td>normal</td>\n",
       "    </tr>\n",
       "    <tr>\n",
       "      <th>2</th>\n",
       "      <td>0</td>\n",
       "      <td>tcp</td>\n",
       "      <td>private</td>\n",
       "      <td>S0</td>\n",
       "      <td>0</td>\n",
       "      <td>0</td>\n",
       "      <td>0</td>\n",
       "      <td>0</td>\n",
       "      <td>0</td>\n",
       "      <td>0</td>\n",
       "      <td>...</td>\n",
       "      <td>26</td>\n",
       "      <td>0.10</td>\n",
       "      <td>0.05</td>\n",
       "      <td>0.00</td>\n",
       "      <td>0.00</td>\n",
       "      <td>1.00</td>\n",
       "      <td>1.00</td>\n",
       "      <td>0.00</td>\n",
       "      <td>0.00</td>\n",
       "      <td>anomaly</td>\n",
       "    </tr>\n",
       "    <tr>\n",
       "      <th>3</th>\n",
       "      <td>0</td>\n",
       "      <td>tcp</td>\n",
       "      <td>http</td>\n",
       "      <td>SF</td>\n",
       "      <td>232</td>\n",
       "      <td>8153</td>\n",
       "      <td>0</td>\n",
       "      <td>0</td>\n",
       "      <td>0</td>\n",
       "      <td>0</td>\n",
       "      <td>...</td>\n",
       "      <td>255</td>\n",
       "      <td>1.00</td>\n",
       "      <td>0.00</td>\n",
       "      <td>0.03</td>\n",
       "      <td>0.04</td>\n",
       "      <td>0.03</td>\n",
       "      <td>0.01</td>\n",
       "      <td>0.00</td>\n",
       "      <td>0.01</td>\n",
       "      <td>normal</td>\n",
       "    </tr>\n",
       "    <tr>\n",
       "      <th>4</th>\n",
       "      <td>0</td>\n",
       "      <td>tcp</td>\n",
       "      <td>http</td>\n",
       "      <td>SF</td>\n",
       "      <td>199</td>\n",
       "      <td>420</td>\n",
       "      <td>0</td>\n",
       "      <td>0</td>\n",
       "      <td>0</td>\n",
       "      <td>0</td>\n",
       "      <td>...</td>\n",
       "      <td>255</td>\n",
       "      <td>1.00</td>\n",
       "      <td>0.00</td>\n",
       "      <td>0.00</td>\n",
       "      <td>0.00</td>\n",
       "      <td>0.00</td>\n",
       "      <td>0.00</td>\n",
       "      <td>0.00</td>\n",
       "      <td>0.00</td>\n",
       "      <td>normal</td>\n",
       "    </tr>\n",
       "    <tr>\n",
       "      <th>...</th>\n",
       "      <td>...</td>\n",
       "      <td>...</td>\n",
       "      <td>...</td>\n",
       "      <td>...</td>\n",
       "      <td>...</td>\n",
       "      <td>...</td>\n",
       "      <td>...</td>\n",
       "      <td>...</td>\n",
       "      <td>...</td>\n",
       "      <td>...</td>\n",
       "      <td>...</td>\n",
       "      <td>...</td>\n",
       "      <td>...</td>\n",
       "      <td>...</td>\n",
       "      <td>...</td>\n",
       "      <td>...</td>\n",
       "      <td>...</td>\n",
       "      <td>...</td>\n",
       "      <td>...</td>\n",
       "      <td>...</td>\n",
       "      <td>...</td>\n",
       "    </tr>\n",
       "    <tr>\n",
       "      <th>25187</th>\n",
       "      <td>0</td>\n",
       "      <td>tcp</td>\n",
       "      <td>exec</td>\n",
       "      <td>RSTO</td>\n",
       "      <td>0</td>\n",
       "      <td>0</td>\n",
       "      <td>0</td>\n",
       "      <td>0</td>\n",
       "      <td>0</td>\n",
       "      <td>0</td>\n",
       "      <td>...</td>\n",
       "      <td>7</td>\n",
       "      <td>0.03</td>\n",
       "      <td>0.06</td>\n",
       "      <td>0.00</td>\n",
       "      <td>0.00</td>\n",
       "      <td>0.00</td>\n",
       "      <td>0.00</td>\n",
       "      <td>1.00</td>\n",
       "      <td>1.00</td>\n",
       "      <td>anomaly</td>\n",
       "    </tr>\n",
       "    <tr>\n",
       "      <th>25188</th>\n",
       "      <td>0</td>\n",
       "      <td>tcp</td>\n",
       "      <td>ftp_data</td>\n",
       "      <td>SF</td>\n",
       "      <td>334</td>\n",
       "      <td>0</td>\n",
       "      <td>0</td>\n",
       "      <td>0</td>\n",
       "      <td>0</td>\n",
       "      <td>0</td>\n",
       "      <td>...</td>\n",
       "      <td>39</td>\n",
       "      <td>1.00</td>\n",
       "      <td>0.00</td>\n",
       "      <td>1.00</td>\n",
       "      <td>0.18</td>\n",
       "      <td>0.00</td>\n",
       "      <td>0.00</td>\n",
       "      <td>0.00</td>\n",
       "      <td>0.00</td>\n",
       "      <td>anomaly</td>\n",
       "    </tr>\n",
       "    <tr>\n",
       "      <th>25189</th>\n",
       "      <td>0</td>\n",
       "      <td>tcp</td>\n",
       "      <td>private</td>\n",
       "      <td>REJ</td>\n",
       "      <td>0</td>\n",
       "      <td>0</td>\n",
       "      <td>0</td>\n",
       "      <td>0</td>\n",
       "      <td>0</td>\n",
       "      <td>0</td>\n",
       "      <td>...</td>\n",
       "      <td>13</td>\n",
       "      <td>0.05</td>\n",
       "      <td>0.07</td>\n",
       "      <td>0.00</td>\n",
       "      <td>0.00</td>\n",
       "      <td>0.00</td>\n",
       "      <td>0.00</td>\n",
       "      <td>1.00</td>\n",
       "      <td>1.00</td>\n",
       "      <td>anomaly</td>\n",
       "    </tr>\n",
       "    <tr>\n",
       "      <th>25190</th>\n",
       "      <td>0</td>\n",
       "      <td>tcp</td>\n",
       "      <td>nnsp</td>\n",
       "      <td>S0</td>\n",
       "      <td>0</td>\n",
       "      <td>0</td>\n",
       "      <td>0</td>\n",
       "      <td>0</td>\n",
       "      <td>0</td>\n",
       "      <td>0</td>\n",
       "      <td>...</td>\n",
       "      <td>20</td>\n",
       "      <td>0.08</td>\n",
       "      <td>0.06</td>\n",
       "      <td>0.00</td>\n",
       "      <td>0.00</td>\n",
       "      <td>1.00</td>\n",
       "      <td>1.00</td>\n",
       "      <td>0.00</td>\n",
       "      <td>0.00</td>\n",
       "      <td>anomaly</td>\n",
       "    </tr>\n",
       "    <tr>\n",
       "      <th>25191</th>\n",
       "      <td>0</td>\n",
       "      <td>tcp</td>\n",
       "      <td>finger</td>\n",
       "      <td>S0</td>\n",
       "      <td>0</td>\n",
       "      <td>0</td>\n",
       "      <td>0</td>\n",
       "      <td>0</td>\n",
       "      <td>0</td>\n",
       "      <td>0</td>\n",
       "      <td>...</td>\n",
       "      <td>49</td>\n",
       "      <td>0.19</td>\n",
       "      <td>0.03</td>\n",
       "      <td>0.01</td>\n",
       "      <td>0.00</td>\n",
       "      <td>1.00</td>\n",
       "      <td>1.00</td>\n",
       "      <td>0.00</td>\n",
       "      <td>0.00</td>\n",
       "      <td>anomaly</td>\n",
       "    </tr>\n",
       "  </tbody>\n",
       "</table>\n",
       "<p>25192 rows × 42 columns</p>\n",
       "</div>"
      ],
      "text/plain": [
       "       duration protocol_type   service  flag  src_bytes  dst_bytes  land  \\\n",
       "0             0           tcp  ftp_data    SF        491          0     0   \n",
       "1             0           udp     other    SF        146          0     0   \n",
       "2             0           tcp   private    S0          0          0     0   \n",
       "3             0           tcp      http    SF        232       8153     0   \n",
       "4             0           tcp      http    SF        199        420     0   \n",
       "...         ...           ...       ...   ...        ...        ...   ...   \n",
       "25187         0           tcp      exec  RSTO          0          0     0   \n",
       "25188         0           tcp  ftp_data    SF        334          0     0   \n",
       "25189         0           tcp   private   REJ          0          0     0   \n",
       "25190         0           tcp      nnsp    S0          0          0     0   \n",
       "25191         0           tcp    finger    S0          0          0     0   \n",
       "\n",
       "       wrong_fragment  urgent  hot  ...  dst_host_srv_count  \\\n",
       "0                   0       0    0  ...                  25   \n",
       "1                   0       0    0  ...                   1   \n",
       "2                   0       0    0  ...                  26   \n",
       "3                   0       0    0  ...                 255   \n",
       "4                   0       0    0  ...                 255   \n",
       "...               ...     ...  ...  ...                 ...   \n",
       "25187               0       0    0  ...                   7   \n",
       "25188               0       0    0  ...                  39   \n",
       "25189               0       0    0  ...                  13   \n",
       "25190               0       0    0  ...                  20   \n",
       "25191               0       0    0  ...                  49   \n",
       "\n",
       "       dst_host_same_srv_rate  dst_host_diff_srv_rate  \\\n",
       "0                        0.17                    0.03   \n",
       "1                        0.00                    0.60   \n",
       "2                        0.10                    0.05   \n",
       "3                        1.00                    0.00   \n",
       "4                        1.00                    0.00   \n",
       "...                       ...                     ...   \n",
       "25187                    0.03                    0.06   \n",
       "25188                    1.00                    0.00   \n",
       "25189                    0.05                    0.07   \n",
       "25190                    0.08                    0.06   \n",
       "25191                    0.19                    0.03   \n",
       "\n",
       "       dst_host_same_src_port_rate  dst_host_srv_diff_host_rate  \\\n",
       "0                             0.17                         0.00   \n",
       "1                             0.88                         0.00   \n",
       "2                             0.00                         0.00   \n",
       "3                             0.03                         0.04   \n",
       "4                             0.00                         0.00   \n",
       "...                            ...                          ...   \n",
       "25187                         0.00                         0.00   \n",
       "25188                         1.00                         0.18   \n",
       "25189                         0.00                         0.00   \n",
       "25190                         0.00                         0.00   \n",
       "25191                         0.01                         0.00   \n",
       "\n",
       "       dst_host_serror_rate  dst_host_srv_serror_rate  dst_host_rerror_rate  \\\n",
       "0                      0.00                      0.00                  0.05   \n",
       "1                      0.00                      0.00                  0.00   \n",
       "2                      1.00                      1.00                  0.00   \n",
       "3                      0.03                      0.01                  0.00   \n",
       "4                      0.00                      0.00                  0.00   \n",
       "...                     ...                       ...                   ...   \n",
       "25187                  0.00                      0.00                  1.00   \n",
       "25188                  0.00                      0.00                  0.00   \n",
       "25189                  0.00                      0.00                  1.00   \n",
       "25190                  1.00                      1.00                  0.00   \n",
       "25191                  1.00                      1.00                  0.00   \n",
       "\n",
       "       dst_host_srv_rerror_rate    class  \n",
       "0                          0.00   normal  \n",
       "1                          0.00   normal  \n",
       "2                          0.00  anomaly  \n",
       "3                          0.01   normal  \n",
       "4                          0.00   normal  \n",
       "...                         ...      ...  \n",
       "25187                      1.00  anomaly  \n",
       "25188                      0.00  anomaly  \n",
       "25189                      1.00  anomaly  \n",
       "25190                      0.00  anomaly  \n",
       "25191                      0.00  anomaly  \n",
       "\n",
       "[25192 rows x 42 columns]"
      ]
     },
     "execution_count": 181,
     "metadata": {},
     "output_type": "execute_result"
    }
   ],
   "source": [
    "Network_data"
   ]
  },
  {
   "cell_type": "code",
   "execution_count": 183,
   "id": "32969034-10c7-43e6-8fab-7326c55d4f21",
   "metadata": {},
   "outputs": [],
   "source": [
    "X = Network_data.iloc[:,0:40]"
   ]
  },
  {
   "cell_type": "code",
   "execution_count": 203,
   "id": "e6395cbf-911f-46c0-bc51-d36f67e10e34",
   "metadata": {},
   "outputs": [],
   "source": [
    "X_poly = sklearn.preprocessing.PolynomialFeatures(degree=2).fit_transform(X)"
   ]
  },
  {
   "cell_type": "code",
   "execution_count": 205,
   "id": "3f56edee-6748-4bfe-aa2b-5c11617b932f",
   "metadata": {},
   "outputs": [],
   "source": [
    "X_mix_poly, X_test_poly, Y_mix_poly, Y_test_poly = sklearn.model_selection.train_test_split(\n",
    "    X_poly, Y, test_size=0.2, shuffle=True, random_state=0,\n",
    ")\n",
    "\n",
    "X_train_poly, X_validation_poly, Y_train_poly, Y_validation_poly = sklearn.model_selection.train_test_split(\n",
    "    X_mix_poly, Y_mix_poly, test_size = 0.25, shuffle = True, random_state = 0,\n",
    ")"
   ]
  },
  {
   "cell_type": "code",
   "execution_count": 16,
   "id": "f4464da8-b069-41bf-8603-9b630bdd6298",
   "metadata": {},
   "outputs": [
    {
     "name": "stdout",
     "output_type": "stream",
     "text": [
      "['tcp' 'udp' 'icmp']\n"
     ]
    }
   ],
   "source": [
    "unique_rows = X['protocol_type'].unique()\n",
    "print(unique_rows)"
   ]
  },
  {
   "cell_type": "code",
   "execution_count": 185,
   "id": "0ae88cbd-e2c9-4e1e-a506-1e673a9a540c",
   "metadata": {},
   "outputs": [],
   "source": [
    "#Encodes protocol type\n",
    "\n",
    "X.loc[X['protocol_type'] == 'tcp', 'protocol_type'] = 1\n",
    "X.loc[X['protocol_type'] == 'udp', 'protocol_type'] = 0\n",
    "X.loc[X['protocol_type'] == 'icmp', 'protocol_type'] = -1"
   ]
  },
  {
   "cell_type": "code",
   "execution_count": 187,
   "id": "f6164b5f-1cf1-4807-824e-a54b437ca6f3",
   "metadata": {},
   "outputs": [],
   "source": [
    "X['udp'] = (X['protocol_type'] == -1).astype(int)\n",
    "X['tcp'] = (X['protocol_type'] == 1).astype(int)\n",
    "X['icmp'] = (X['protocol_type'] == 0).astype(int)"
   ]
  },
  {
   "cell_type": "code",
   "execution_count": 189,
   "id": "8d384174-a339-4a9d-98a8-4393a395cae8",
   "metadata": {},
   "outputs": [],
   "source": [
    "X.drop(columns=['protocol_type'], inplace=True)"
   ]
  },
  {
   "cell_type": "code",
   "execution_count": 191,
   "id": "743bd11b-c2a3-4c39-afec-9eab7099d419",
   "metadata": {},
   "outputs": [],
   "source": [
    "#Encodes Service\n",
    "\n",
    "X.loc[X['service'].isin(['ssh', 'http_443', 'imap4', 'domain_u', 'domain', 'ldap', 'echo', 'printer', 'time', 'whois', 'efs', 'name']), 'service'] = 0\n",
    "X.loc[X['service'].isin(['telnet', 'ftp', 'ftp_data', 'smtp', 'http', 'pop_2', 'pop_3', 'exec', 'login', 'shell', 'kshell', 'netbios_ns', 'netbios_dgm', 'iso_tsap', 'eco_i', 'ecr_i', 'urp_i', 'X11', 'sunrpc', 'uucp', 'uucp_path', 'sql_net', 'pm_dump', 'ctf', 'red_i', 'rje', 'discard', 'systat', 'gopher', 'finger', 'daytime', 'vmnet', 'auth', 'bgp', 'other', 'private', 'remote_job', 'mtp', 'supdup', 'Z39_50', 'csnet_ns', 'efs', 'klogin', 'link', 'hostnames', 'ntp_u', 'nntp', 'courier', 'netstat', 'nnsp', 'IRC', 'tim_i', 'netbios_ssn', 'urh_i', 'http_8001']), 'service'] = 1"
   ]
  },
  {
   "cell_type": "code",
   "execution_count": 193,
   "id": "a9bb85ab-b1cf-49ad-864f-13e2f28fd01d",
   "metadata": {},
   "outputs": [],
   "source": [
    "#Encodes Flag\n",
    "\n",
    "X.loc[X['flag'].isin(['SF', 'RSTO', 'RSTOS0', 'OTH']), 'flag'] = 0\n",
    "X.loc[X['flag'].isin(['SH', 'S0', 'S2', 'REJ', 'S3', 'S1', 'RSTR']), 'flag'] = 1"
   ]
  },
  {
   "cell_type": "code",
   "execution_count": 195,
   "id": "293a138a-7f71-40ac-915f-5378f67ae9d4",
   "metadata": {},
   "outputs": [],
   "source": [
    "Y = Network_data.iloc[:,41]"
   ]
  },
  {
   "cell_type": "code",
   "execution_count": null,
   "id": "328af6f3-9380-4a4d-8ed3-41e683ed1159",
   "metadata": {},
   "outputs": [],
   "source": [
    "for i in range(len(Y)):\n",
    "    if Y[i] == 'anomaly':\n",
    "        Y[i] = 1\n",
    "    elif Y[i] == 'normal':\n",
    "        Y[i] = 0"
   ]
  },
  {
   "cell_type": "code",
   "execution_count": 199,
   "id": "b699a774-1276-49a2-918f-eb2e497b1696",
   "metadata": {},
   "outputs": [],
   "source": [
    "X = X.astype(float)\n",
    "Y = Y.astype(float)"
   ]
  },
  {
   "cell_type": "code",
   "execution_count": 201,
   "id": "20118ac1-3cc2-4606-b4ba-15f73aa4d458",
   "metadata": {},
   "outputs": [],
   "source": [
    "X_mix, X_test, Y_mix, Y_test = sklearn.model_selection.train_test_split(\n",
    "    X, Y, test_size=0.2, shuffle=True, random_state=0,\n",
    ")\n",
    "\n",
    "X_train, X_validation, Y_train, Y_validation = sklearn.model_selection.train_test_split(\n",
    "    X_mix, Y_mix, test_size = 0.25, shuffle = True, random_state = 0,\n",
    ")"
   ]
  },
  {
   "cell_type": "code",
   "execution_count": 30,
   "id": "32c7910b-30fe-43ab-95db-8f4be1f6cc8b",
   "metadata": {},
   "outputs": [
    {
     "name": "stdout",
     "output_type": "stream",
     "text": [
      "1000000\n",
      "Accuracy equals: 31.474498908513592 %\n"
     ]
    }
   ],
   "source": [
    "import sklearn.linear_model\n",
    "\n",
    "eta = [1000000,100000,10000,1000,100,10,1,0.1,0.01,0.001,0.0001,0.00001,0.000001,0.0000001]\n",
    "\n",
    "accuracy = np.zeros(len(eta))\n",
    "\n",
    "for i in range(len(eta)):\n",
    "    perceptron = sklearn.linear_model.Perceptron(eta0=eta[i])\n",
    "    perceptron.fit(X_train, Y_train)\n",
    "    perceptron_model = perceptron.predict(X_validation)\n",
    "\n",
    "    accuracy[i] = np.sum(Y_validation == perceptron_model)\n",
    "    \n",
    "print(eta[np.argmax(accuracy)])\n",
    "print(\"Accuracy equals:\", accuracy[np.argmax(accuracy)]/len(Y_validation)*100, \"%\")"
   ]
  },
  {
   "cell_type": "raw",
   "id": "9a707c9f-01c1-403d-971a-675630ddd79f",
   "metadata": {},
   "source": []
  },
  {
   "cell_type": "code",
   "execution_count": 207,
   "id": "3d299ee2-dc98-4509-b24a-c61ccaa02dbd",
   "metadata": {},
   "outputs": [
    {
     "name": "stdout",
     "output_type": "stream",
     "text": [
      "0.1954104499097265\n",
      "Accuracy equals: 94.76086525104186 %\n"
     ]
    }
   ],
   "source": [
    "#linear regression model\n",
    "lambds = np.exp(np.linspace(-20, 5, 50))\n",
    "\n",
    "accuracy = np.zeros(len(lambds))\n",
    "\n",
    "for i in range(len(lambds)):\n",
    "    reg = sklearn.linear_model.Ridge(alpha = lambds[i])\n",
    "    reg.fit(X_train,Y_train)\n",
    "    predictions = reg.predict(X_validation)\n",
    "\n",
    "    for j in range(len(predictions)):\n",
    "        if predictions[j] >= 0.5:\n",
    "            predictions[j] = 1\n",
    "        elif predictions[j] < 0.5:\n",
    "            predictions[j] = 0\n",
    "\n",
    "    accuracy[i] = np.sum(Y_validation == predictions)\n",
    "\n",
    "print(lambds[np.argmax(accuracy)])\n",
    "print(\"Accuracy equals:\", np.max(accuracy)/len(Y_validation)*100, \"%\")"
   ]
  },
  {
   "cell_type": "code",
   "execution_count": 209,
   "id": "6c81b5d8-6c39-4a31-bbc8-44788042c36d",
   "metadata": {},
   "outputs": [
    {
     "name": "stdout",
     "output_type": "stream",
     "text": [
      "Best lambda: 0.0007138069865119686\n",
      "Accuracy: 99.14665608255606 %\n"
     ]
    }
   ],
   "source": [
    "#polynomial regression model\n",
    "import numpy as np\n",
    "from sklearn.linear_model import Ridge\n",
    "\n",
    "# Define tolerance (adjust this value as needed)\n",
    "\n",
    "lambds = np.exp(np.linspace(-20, 5, 50))\n",
    "accuracy = np.zeros(len(lambds))\n",
    "\n",
    "for i in range(len(lambds)):\n",
    "    reg = Ridge(alpha=lambds[i])\n",
    "    reg.fit(X_train_poly, Y_train_poly)\n",
    "    predictions = reg.predict(X_validation_poly)\n",
    "\n",
    "    # Calculate accuracy based on tolerance\n",
    "    for j in range(len(predictions)):\n",
    "        if predictions[j] >= 0.5:\n",
    "            predictions[j] = 1\n",
    "        elif predictions[j] < 0.5:\n",
    "            predictions[j] = 0\n",
    "\n",
    "    accuracy[i] = np.sum(Y_validation_poly == predictions)\n",
    "\n",
    "best_lambda = lambds[np.argmax(accuracy)]\n",
    "best_accuracy = (np.max(accuracy)/len(Y_validation_poly))*100\n",
    "\n",
    "print(\"Best lambda:\", best_lambda)\n",
    "print(\"Accuracy:\", best_accuracy, \"%\")\n"
   ]
  },
  {
   "cell_type": "code",
   "execution_count": 211,
   "id": "1aa0684c-8b1d-4055-bdb2-17d1c67f91e1",
   "metadata": {},
   "outputs": [
    {
     "name": "stdout",
     "output_type": "stream",
     "text": [
      "98.96804921611431\n"
     ]
    }
   ],
   "source": [
    "reg = Ridge(alpha=9.27396655140094e-05)\n",
    "reg.fit(X_train_poly, Y_train_poly)\n",
    "predictions = reg.predict(X_test_poly)\n",
    "\n",
    "for j in range(len(predictions)):\n",
    "    if predictions[j] >= 0.5:\n",
    "        predictions[j] = 1\n",
    "    elif predictions[j] < 0.5:\n",
    "        predictions[j] = 0\n",
    "\n",
    "correct_predictions = np.sum(Y_test_poly == predictions)\n",
    "accuracy = (correct_predictions/len(Y_test_poly)) * 100\n",
    "\n",
    "print(accuracy)"
   ]
  },
  {
   "cell_type": "code",
   "execution_count": null,
   "id": "3df433d7-882f-4ee7-8933-5ec0cfa01b4f",
   "metadata": {},
   "outputs": [],
   "source": [
    "import sklearn.cluster\n",
    "\n",
    "n = np.linspace(1, 40, 40, dtype = 'int')\n",
    "\n",
    "\n",
    "accuracy = np.zeros(len(n))\n",
    "\n",
    "for j in range(len(n)):\n",
    "    kmeans = sklearn.cluster.KMeans(n_clusters = n[j])\n",
    "    kmeans.fit(X_train)\n",
    "    kernel_svm_model = kmeans.predict(X_validation)\n",
    "    kernel_svm_model_2 = kmeans.predict(X_test)\n",
    "    for i in range(n[j]):\n",
    "        if np.average(Y_validation[kernel_svm_model==i]) > 0.5:\n",
    "            kernel_svm_model[kernel_svm_model == i] = 1\n",
    "            kernel_svm_model_2[kernel_svm_model_2 == kernel_svm_model[i]] = 1\n",
    "        elif np.average(Y_validation[kernel_svm_model==i]) <= 0.5:\n",
    "            kernel_svm_model[kernel_svm_model == i] = 0\n",
    "            kernel_svm_model_2[kernel_svm_model_2 == kernel_svm_model[i]] = 0\n",
    "\n",
    "    accuracy[j] = ((np.sum(Y_test == kernel_svm_model_2))/len(Y_test))*100"
   ]
  },
  {
   "cell_type": "code",
   "execution_count": 167,
   "id": "e29f00e7-a681-4b24-bd43-870b0ac99114",
   "metadata": {},
   "outputs": [
    {
     "data": {
      "text/plain": [
       "Text(0.5, 1.0, 'testing various cluster numbers and accuracy')"
      ]
     },
     "execution_count": 167,
     "metadata": {},
     "output_type": "execute_result"
    },
    {
     "data": {
      "image/png": "[encoded data removed]",
      "text/plain": [
       "<Figure size 640x480 with 1 Axes>"
      ]
     },
     "metadata": {},
     "output_type": "display_data"
    }
   ],
   "source": [
    "plt.plot(n, accuracy)\n",
    "plt.xlabel(\"prototypes (n)\")\n",
    "plt.ylabel(\"accuracy (%)\")\n",
    "plt.title(\"testing various cluster numbers and accuracy\")"
   ]
  },
  {
   "cell_type": "code",
   "execution_count": null,
   "id": "f9413697-b00f-4bc4-85e8-63d98965008e",
   "metadata": {},
   "outputs": [],
   "source": []
  },
  {
   "cell_type": "code",
   "execution_count": 215,
   "id": "06087aa4-c288-4473-9248-2cc91a383a42",
   "metadata": {},
   "outputs": [
    {
     "name": "stdout",
     "output_type": "stream",
     "text": [
      "0.01\n"
     ]
    },
    {
     "data": {
      "text/plain": [
       "95.09823377654297"
      ]
     },
     "execution_count": 215,
     "metadata": {},
     "output_type": "execute_result"
    }
   ],
   "source": [
    "cost = [1000000,100000,10000,1000,100,10,1,0.1,0.01,0.001,0.0001,0.00001,0.000001,0.0000001]\n",
    "\n",
    "accuracy = np.zeros(len(cost))\n",
    "\n",
    "for i in range(len(cost)):\n",
    "    svm = sklearn.svm.LinearSVC(C=cost[i])\n",
    "    svm.fit(X_train, Y_train)\n",
    "    linear_svm_model = svm.predict(X_validation)\n",
    "\n",
    "    accuracy[i] = np.sum(Y_validation == linear_svm_model)\n",
    "\n",
    "print(cost[np.argmax(accuracy)])\n",
    "np.max(accuracy)/len(Y_validation)*100"
   ]
  },
  {
   "cell_type": "code",
   "execution_count": 324,
   "id": "e3c347fe-c1c5-48af-bfaf-b38ad6c2ccd1",
   "metadata": {},
   "outputs": [
    {
     "data": {
      "text/plain": [
       "([<matplotlib.axis.YTick at 0x2657b29c3e0>,\n",
       "  <matplotlib.axis.YTick at 0x2657b7d2e70>,\n",
       "  <matplotlib.axis.YTick at 0x2657b7d3f50>,\n",
       "  <matplotlib.axis.YTick at 0x26501afd400>,\n",
       "  <matplotlib.axis.YTick at 0x26501afdd90>,\n",
       "  <matplotlib.axis.YTick at 0x26501ab3d40>,\n",
       "  <matplotlib.axis.YTick at 0x26501afe450>,\n",
       "  <matplotlib.axis.YTick at 0x26501afed80>,\n",
       "  <matplotlib.axis.YTick at 0x26501aff6e0>],\n",
       " [Text(0, 0, '0.001'),\n",
       "  Text(0, 3, '0.01'),\n",
       "  Text(0, 6, '0.1'),\n",
       "  Text(0, 9, '1.0'),\n",
       "  Text(0, 12, '10.0'),\n",
       "  Text(0, 15, '100.0'),\n",
       "  Text(0, 18, '1000.0'),\n",
       "  Text(0, 21, '10000.0'),\n",
       "  Text(0, 24, '100000.0')])"
      ]
     },
     "execution_count": 324,
     "metadata": {},
     "output_type": "execute_result"
    },
    {
     "data": {
      "image/png": "[encoded data removed]",
      "text/plain": [
       "<Figure size 640x480 with 2 Axes>"
      ]
     },
     "metadata": {},
     "output_type": "display_data"
    }
   ],
   "source": [
    "Cs = np.logspace(-3, 5, 25)\n",
    "gammas = np.logspace(-6, 3, 28)\n",
    "\n",
    "accuracy = np.zeros((len(Cs),len(gammas)))\n",
    "\n",
    "for i in range(len(Cs)):\n",
    "    for j in range(len(gammas)):\n",
    "        svm = sklearn.svm.SVC(kernel='rbf', gamma=gammas[j], C=Cs[i])\n",
    "        svm.fit(X_train, Y_train)\n",
    "        svm_model = svm.predict(X_validation)\n",
    "        \n",
    "        accuracy[i,j] = (np.sum(Y_validation == svm_model)/len(Y_validation))\n",
    "\n",
    "#print(cost[np.argmax(accuracy)])\n",
    "#np.max(accuracy)/len(Y_validation)*100\n",
    "\n",
    "XX, YY = np.meshgrid(np.arange(len(gammas)), np.arange(len(Cs)))\n",
    "plt.contourf(XX, YY, accuracy, levels=50)\n",
    "plt.colorbar()\n",
    "CS = plt.contour(XX, YY, accuracy, levels=[0,0.75,0.8,0.85, 0.9, 0.95], colors='k')\n",
    "plt.clabel(CS, CS.levels, inline=True, fontsize=8)\n",
    "plt.xticks(np.arange(len(gammas))[::3], gammas[::3], rotation=90)\n",
    "plt.yticks(np.arange(len(Cs))[::3], Cs[::3])"
   ]
  },
  {
   "cell_type": "code",
   "execution_count": 46,
   "id": "a96613df-876f-4578-a234-fe447446f959",
   "metadata": {},
   "outputs": [],
   "source": [
    "svm = sklearn.svm.SVC(kernel='rbf', gamma=0.000001, C=10000)\n",
    "svm.fit(X_train, Y_train)\n",
    "svm_model = svm.predict(X_validation)"
   ]
  },
  {
   "cell_type": "code",
   "execution_count": 52,
   "id": "e8b01a3c-0e22-4e87-84a0-04b7e4c0d656",
   "metadata": {},
   "outputs": [
    {
     "name": "stdout",
     "output_type": "stream",
     "text": [
      "0.9855129986108355\n"
     ]
    }
   ],
   "source": [
    "accuracy = (np.sum(Y_validation == svm_model)/len(Y_validation))\n",
    "print(accuracy)"
   ]
  }
 ],
 "metadata": {
  "kernelspec": {
   "display_name": "Python 3 (ipykernel)",
   "language": "python",
   "name": "python3"
  },
  "language_info": {
   "codemirror_mode": {
    "name": "ipython",
    "version": 3
   },
   "file_extension": ".py",
   "mimetype": "text/x-python",
   "name": "python",
   "nbconvert_exporter": "python",
   "pygments_lexer": "ipython3",
   "version": "3.12.3"
  }
 },
 "nbformat": 4,
 "nbformat_minor": 5
}
